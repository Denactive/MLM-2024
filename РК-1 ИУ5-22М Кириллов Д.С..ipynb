{
 "cells": [
  {
   "cell_type": "markdown",
   "metadata": {},
   "source": [
    "[PDF-версия](./РК-1%20ИУ5-12М%20Кириллов%20Д.С..pdf)"
   ]
  },
  {
   "cell_type": "markdown",
   "metadata": {},
   "source": [
    "![Титульный лист](./titulnik-rk-1.png)"
   ]
  },
  {
   "cell_type": "markdown",
   "metadata": {},
   "source": [
    "# РК-1 ММО в АСОИУ (Методы машинного обучения в АСОИУ)\n",
    "\n",
    "## ИУ5-22М Кириллов Д.С. Вариант 7\n",
    "\n",
    "26.03.2024\n",
    "\n",
    "## Задание\n",
    "\n",
    "Для студентов группы ИУ5-22М номер варианта = номер в списке группы\n",
    "\n",
    "| Номер варианта | Номер задачи №1 | Номер задачи №2 |\n",
    "| -------------- | --------------- | --------------- |\n",
    "| 7              | 7               | 27              |\n",
    "\n",
    "### Задача №7\n",
    "\n",
    "Для набора данных проведите устранение пропусков для одного (произвольного) числового признака с использованием метода заполнения медианой.\n",
    "\n",
    "\n",
    "### Задача №27\n",
    "\n",
    "Для набора данных для одного (произвольного) числового признака проведите обнаружение и замену (найденными верхними и нижними границами) выбросов на основе 5% и 95% квантилей.\n",
    "\n",
    "\n",
    "### Дополнительные требования по группам:\n",
    "Для студентов групп ИУ5-22М, ИУ5И-22М - для произвольной колонки данных построить гистограмму.\n",
    "\n",
    "## Ход работы\n",
    "\n",
    "### Подготовка датасета\n",
    "\n",
    "Взял датасет **Demographic and Socio-economic Indicators - last update: September 2023** https://uis.unesco.org/bdds\n",
    "\n",
    "В нем собраны различные социально-демографические и экономические метрики с разных стран по годам.\n",
    "\n",
    "- INDICATOR_ID - код социально-демографической или экономической метрики. Категориальный признак.\n",
    "- COUNTRY_ID - код государства. Категориальный признак.\n",
    "- YEAR - год. Категориальный признак.\n",
    "- VALUE\t- значение этой социально-демографической или экономической метрики. Числовой признак.\n",
    "- MAGNITUDE - пустая колонка\n",
    "- QUALIFIER - пустая колонка\n",
    "\n",
    "За некоторые года некоторые метрики могут быть пропущены. Это связано с тем, что расчеты по некоторым показателям не могли быть проведены из-за отсутствия данных. Либо эти данных никто не собирал, как в некоторых странах стретьего мира, либо эти страны имеют закрытую экономику, как Иран и КНДР. Однако, это нельзя считать полноценными пропусками. Если за такой-то год данные по такой-то метрике не были собраны, строка с такой страной, годом и метрикой просто будет отсутствовать. \n",
    "\n",
    "Также существует проблема, что данные о стране А собираются с 1900 года, а о стране Б - с 2000.\n",
    "\n",
    "Для полноценного анализа, **исходный датасет нужно разбить** на более мелкие датасеты либо по исследуемой социально-демографической или экономической метрике, либо по стране.\n",
    "\n",
    "В работе **буду искусственно внедрять пропуски**. Это проще, чем учитывать, что в такой-то из 241 стран в такой-то год произошли такие-то события, и потому данные за этот год можно считать пропуском."
   ]
  },
  {
   "cell_type": "code",
   "execution_count": 33,
   "metadata": {},
   "outputs": [],
   "source": [
    "import numpy as np\n",
    "from matplotlib import pyplot as plt\n",
    "import seaborn as sns\n",
    "import pandas as pd\n",
    "from sklearn.impute import SimpleImputer\n",
    "from sklearn.impute import MissingIndicator\n",
    "import scipy.stats as stats\n",
    "import math\n",
    "\n",
    "%matplotlib inline"
   ]
  },
  {
   "cell_type": "code",
   "execution_count": 34,
   "metadata": {},
   "outputs": [],
   "source": [
    "data_folder = '../data/'\n",
    "countries_labels = pd.read_csv(data_folder + 'DEM_COUNTRY.csv')\n",
    "indicator_labels = pd.read_csv(data_folder + 'DEM_LABEL.csv')\n",
    "data_raw = pd.read_csv(data_folder + 'DEM_DATA_NATIONAL.csv')"
   ]
  },
  {
   "cell_type": "code",
   "execution_count": 35,
   "metadata": {},
   "outputs": [
    {
     "data": {
      "text/html": [
       "<div>\n",
       "<style scoped>\n",
       "    .dataframe tbody tr th:only-of-type {\n",
       "        vertical-align: middle;\n",
       "    }\n",
       "\n",
       "    .dataframe tbody tr th {\n",
       "        vertical-align: top;\n",
       "    }\n",
       "\n",
       "    .dataframe thead th {\n",
       "        text-align: right;\n",
       "    }\n",
       "</style>\n",
       "<table border=\"1\" class=\"dataframe\">\n",
       "  <thead>\n",
       "    <tr style=\"text-align: right;\">\n",
       "      <th></th>\n",
       "      <th>INDICATOR_ID</th>\n",
       "      <th>COUNTRY_ID</th>\n",
       "      <th>YEAR</th>\n",
       "      <th>VALUE</th>\n",
       "      <th>MAGNITUDE</th>\n",
       "      <th>QUALIFIER</th>\n",
       "    </tr>\n",
       "  </thead>\n",
       "  <tbody>\n",
       "    <tr>\n",
       "      <th>0</th>\n",
       "      <td>200101</td>\n",
       "      <td>ABW</td>\n",
       "      <td>1970</td>\n",
       "      <td>5.924000e+01</td>\n",
       "      <td>NaN</td>\n",
       "      <td>NaN</td>\n",
       "    </tr>\n",
       "    <tr>\n",
       "      <th>1</th>\n",
       "      <td>200101</td>\n",
       "      <td>ABW</td>\n",
       "      <td>1971</td>\n",
       "      <td>5.897300e+01</td>\n",
       "      <td>NaN</td>\n",
       "      <td>NaN</td>\n",
       "    </tr>\n",
       "    <tr>\n",
       "      <th>2</th>\n",
       "      <td>200101</td>\n",
       "      <td>ABW</td>\n",
       "      <td>1972</td>\n",
       "      <td>5.866000e+01</td>\n",
       "      <td>NaN</td>\n",
       "      <td>NaN</td>\n",
       "    </tr>\n",
       "    <tr>\n",
       "      <th>3</th>\n",
       "      <td>200101</td>\n",
       "      <td>ABW</td>\n",
       "      <td>1973</td>\n",
       "      <td>5.905100e+01</td>\n",
       "      <td>NaN</td>\n",
       "      <td>NaN</td>\n",
       "    </tr>\n",
       "    <tr>\n",
       "      <th>4</th>\n",
       "      <td>200101</td>\n",
       "      <td>ABW</td>\n",
       "      <td>1974</td>\n",
       "      <td>5.968000e+01</td>\n",
       "      <td>NaN</td>\n",
       "      <td>NaN</td>\n",
       "    </tr>\n",
       "    <tr>\n",
       "      <th>...</th>\n",
       "      <td>...</td>\n",
       "      <td>...</td>\n",
       "      <td>...</td>\n",
       "      <td>...</td>\n",
       "      <td>...</td>\n",
       "      <td>...</td>\n",
       "    </tr>\n",
       "    <tr>\n",
       "      <th>303304</th>\n",
       "      <td>XTGOV.IMF</td>\n",
       "      <td>ZWE</td>\n",
       "      <td>2019</td>\n",
       "      <td>2.484000e+10</td>\n",
       "      <td>NaN</td>\n",
       "      <td>NaN</td>\n",
       "    </tr>\n",
       "    <tr>\n",
       "      <th>303305</th>\n",
       "      <td>XTGOV.IMF</td>\n",
       "      <td>ZWE</td>\n",
       "      <td>2020</td>\n",
       "      <td>1.726850e+11</td>\n",
       "      <td>NaN</td>\n",
       "      <td>NaN</td>\n",
       "    </tr>\n",
       "    <tr>\n",
       "      <th>303306</th>\n",
       "      <td>XTGOV.IMF</td>\n",
       "      <td>ZWE</td>\n",
       "      <td>2021</td>\n",
       "      <td>5.583440e+11</td>\n",
       "      <td>NaN</td>\n",
       "      <td>NaN</td>\n",
       "    </tr>\n",
       "    <tr>\n",
       "      <th>303307</th>\n",
       "      <td>XTGOV.IMF</td>\n",
       "      <td>ZWE</td>\n",
       "      <td>2022</td>\n",
       "      <td>2.329145e+12</td>\n",
       "      <td>NaN</td>\n",
       "      <td>NaN</td>\n",
       "    </tr>\n",
       "    <tr>\n",
       "      <th>303308</th>\n",
       "      <td>XTGOV.IMF</td>\n",
       "      <td>ZWE</td>\n",
       "      <td>2023</td>\n",
       "      <td>7.496591e+12</td>\n",
       "      <td>NaN</td>\n",
       "      <td>NaN</td>\n",
       "    </tr>\n",
       "  </tbody>\n",
       "</table>\n",
       "<p>303309 rows × 6 columns</p>\n",
       "</div>"
      ],
      "text/plain": [
       "       INDICATOR_ID COUNTRY_ID  YEAR         VALUE  MAGNITUDE  QUALIFIER\n",
       "0            200101        ABW  1970  5.924000e+01        NaN        NaN\n",
       "1            200101        ABW  1971  5.897300e+01        NaN        NaN\n",
       "2            200101        ABW  1972  5.866000e+01        NaN        NaN\n",
       "3            200101        ABW  1973  5.905100e+01        NaN        NaN\n",
       "4            200101        ABW  1974  5.968000e+01        NaN        NaN\n",
       "...             ...        ...   ...           ...        ...        ...\n",
       "303304    XTGOV.IMF        ZWE  2019  2.484000e+10        NaN        NaN\n",
       "303305    XTGOV.IMF        ZWE  2020  1.726850e+11        NaN        NaN\n",
       "303306    XTGOV.IMF        ZWE  2021  5.583440e+11        NaN        NaN\n",
       "303307    XTGOV.IMF        ZWE  2022  2.329145e+12        NaN        NaN\n",
       "303308    XTGOV.IMF        ZWE  2023  7.496591e+12        NaN        NaN\n",
       "\n",
       "[303309 rows x 6 columns]"
      ]
     },
     "execution_count": 35,
     "metadata": {},
     "output_type": "execute_result"
    }
   ],
   "source": [
    "data_raw"
   ]
  },
  {
   "cell_type": "markdown",
   "metadata": {},
   "source": [
    "Есть строки с большим количеством NaN. Узнаем, есть ли среди них полезные."
   ]
  },
  {
   "cell_type": "code",
   "execution_count": 36,
   "metadata": {},
   "outputs": [
    {
     "data": {
      "text/html": [
       "<div>\n",
       "<style scoped>\n",
       "    .dataframe tbody tr th:only-of-type {\n",
       "        vertical-align: middle;\n",
       "    }\n",
       "\n",
       "    .dataframe tbody tr th {\n",
       "        vertical-align: top;\n",
       "    }\n",
       "\n",
       "    .dataframe thead th {\n",
       "        text-align: right;\n",
       "    }\n",
       "</style>\n",
       "<table border=\"1\" class=\"dataframe\">\n",
       "  <thead>\n",
       "    <tr style=\"text-align: right;\">\n",
       "      <th></th>\n",
       "      <th>INDICATOR_ID</th>\n",
       "      <th>COUNTRY_ID</th>\n",
       "      <th>YEAR</th>\n",
       "      <th>VALUE</th>\n",
       "      <th>MAGNITUDE</th>\n",
       "      <th>QUALIFIER</th>\n",
       "    </tr>\n",
       "  </thead>\n",
       "  <tbody>\n",
       "  </tbody>\n",
       "</table>\n",
       "</div>"
      ],
      "text/plain": [
       "Empty DataFrame\n",
       "Columns: [INDICATOR_ID, COUNTRY_ID, YEAR, VALUE, MAGNITUDE, QUALIFIER]\n",
       "Index: []"
      ]
     },
     "execution_count": 36,
     "metadata": {},
     "output_type": "execute_result"
    }
   ],
   "source": [
    "data_raw[~data_raw['MAGNITUDE'].isna()]"
   ]
  },
  {
   "cell_type": "code",
   "execution_count": 37,
   "metadata": {},
   "outputs": [
    {
     "data": {
      "text/html": [
       "<div>\n",
       "<style scoped>\n",
       "    .dataframe tbody tr th:only-of-type {\n",
       "        vertical-align: middle;\n",
       "    }\n",
       "\n",
       "    .dataframe tbody tr th {\n",
       "        vertical-align: top;\n",
       "    }\n",
       "\n",
       "    .dataframe thead th {\n",
       "        text-align: right;\n",
       "    }\n",
       "</style>\n",
       "<table border=\"1\" class=\"dataframe\">\n",
       "  <thead>\n",
       "    <tr style=\"text-align: right;\">\n",
       "      <th></th>\n",
       "      <th>INDICATOR_ID</th>\n",
       "      <th>COUNTRY_ID</th>\n",
       "      <th>YEAR</th>\n",
       "      <th>VALUE</th>\n",
       "      <th>MAGNITUDE</th>\n",
       "      <th>QUALIFIER</th>\n",
       "    </tr>\n",
       "  </thead>\n",
       "  <tbody>\n",
       "  </tbody>\n",
       "</table>\n",
       "</div>"
      ],
      "text/plain": [
       "Empty DataFrame\n",
       "Columns: [INDICATOR_ID, COUNTRY_ID, YEAR, VALUE, MAGNITUDE, QUALIFIER]\n",
       "Index: []"
      ]
     },
     "execution_count": 37,
     "metadata": {},
     "output_type": "execute_result"
    }
   ],
   "source": [
    "data_raw[~data_raw['QUALIFIER'].isna()]"
   ]
  },
  {
   "cell_type": "markdown",
   "metadata": {},
   "source": [
    "Полезных нет. Эти 2 колонки можно удалить"
   ]
  },
  {
   "cell_type": "code",
   "execution_count": 38,
   "metadata": {},
   "outputs": [
    {
     "data": {
      "text/html": [
       "<div>\n",
       "<style scoped>\n",
       "    .dataframe tbody tr th:only-of-type {\n",
       "        vertical-align: middle;\n",
       "    }\n",
       "\n",
       "    .dataframe tbody tr th {\n",
       "        vertical-align: top;\n",
       "    }\n",
       "\n",
       "    .dataframe thead th {\n",
       "        text-align: right;\n",
       "    }\n",
       "</style>\n",
       "<table border=\"1\" class=\"dataframe\">\n",
       "  <thead>\n",
       "    <tr style=\"text-align: right;\">\n",
       "      <th></th>\n",
       "      <th>INDICATOR_ID</th>\n",
       "      <th>COUNTRY_ID</th>\n",
       "      <th>YEAR</th>\n",
       "      <th>VALUE</th>\n",
       "    </tr>\n",
       "  </thead>\n",
       "  <tbody>\n",
       "    <tr>\n",
       "      <th>0</th>\n",
       "      <td>200101</td>\n",
       "      <td>ABW</td>\n",
       "      <td>1970</td>\n",
       "      <td>5.924000e+01</td>\n",
       "    </tr>\n",
       "    <tr>\n",
       "      <th>1</th>\n",
       "      <td>200101</td>\n",
       "      <td>ABW</td>\n",
       "      <td>1971</td>\n",
       "      <td>5.897300e+01</td>\n",
       "    </tr>\n",
       "    <tr>\n",
       "      <th>2</th>\n",
       "      <td>200101</td>\n",
       "      <td>ABW</td>\n",
       "      <td>1972</td>\n",
       "      <td>5.866000e+01</td>\n",
       "    </tr>\n",
       "    <tr>\n",
       "      <th>3</th>\n",
       "      <td>200101</td>\n",
       "      <td>ABW</td>\n",
       "      <td>1973</td>\n",
       "      <td>5.905100e+01</td>\n",
       "    </tr>\n",
       "    <tr>\n",
       "      <th>4</th>\n",
       "      <td>200101</td>\n",
       "      <td>ABW</td>\n",
       "      <td>1974</td>\n",
       "      <td>5.968000e+01</td>\n",
       "    </tr>\n",
       "    <tr>\n",
       "      <th>...</th>\n",
       "      <td>...</td>\n",
       "      <td>...</td>\n",
       "      <td>...</td>\n",
       "      <td>...</td>\n",
       "    </tr>\n",
       "    <tr>\n",
       "      <th>303304</th>\n",
       "      <td>XTGOV.IMF</td>\n",
       "      <td>ZWE</td>\n",
       "      <td>2019</td>\n",
       "      <td>2.484000e+10</td>\n",
       "    </tr>\n",
       "    <tr>\n",
       "      <th>303305</th>\n",
       "      <td>XTGOV.IMF</td>\n",
       "      <td>ZWE</td>\n",
       "      <td>2020</td>\n",
       "      <td>1.726850e+11</td>\n",
       "    </tr>\n",
       "    <tr>\n",
       "      <th>303306</th>\n",
       "      <td>XTGOV.IMF</td>\n",
       "      <td>ZWE</td>\n",
       "      <td>2021</td>\n",
       "      <td>5.583440e+11</td>\n",
       "    </tr>\n",
       "    <tr>\n",
       "      <th>303307</th>\n",
       "      <td>XTGOV.IMF</td>\n",
       "      <td>ZWE</td>\n",
       "      <td>2022</td>\n",
       "      <td>2.329145e+12</td>\n",
       "    </tr>\n",
       "    <tr>\n",
       "      <th>303308</th>\n",
       "      <td>XTGOV.IMF</td>\n",
       "      <td>ZWE</td>\n",
       "      <td>2023</td>\n",
       "      <td>7.496591e+12</td>\n",
       "    </tr>\n",
       "  </tbody>\n",
       "</table>\n",
       "<p>303309 rows × 4 columns</p>\n",
       "</div>"
      ],
      "text/plain": [
       "       INDICATOR_ID COUNTRY_ID  YEAR         VALUE\n",
       "0            200101        ABW  1970  5.924000e+01\n",
       "1            200101        ABW  1971  5.897300e+01\n",
       "2            200101        ABW  1972  5.866000e+01\n",
       "3            200101        ABW  1973  5.905100e+01\n",
       "4            200101        ABW  1974  5.968000e+01\n",
       "...             ...        ...   ...           ...\n",
       "303304    XTGOV.IMF        ZWE  2019  2.484000e+10\n",
       "303305    XTGOV.IMF        ZWE  2020  1.726850e+11\n",
       "303306    XTGOV.IMF        ZWE  2021  5.583440e+11\n",
       "303307    XTGOV.IMF        ZWE  2022  2.329145e+12\n",
       "303308    XTGOV.IMF        ZWE  2023  7.496591e+12\n",
       "\n",
       "[303309 rows x 4 columns]"
      ]
     },
     "execution_count": 38,
     "metadata": {},
     "output_type": "execute_result"
    }
   ],
   "source": [
    "df = data_raw.dropna(axis='columns', how='all')\n",
    "df"
   ]
  },
  {
   "cell_type": "code",
   "execution_count": 39,
   "metadata": {},
   "outputs": [],
   "source": [
    "def two_lists_to_dict(keys, values):\n",
    "  res = {}\n",
    "  for key in keys:\n",
    "      for value in values:\n",
    "          res[key] = value\n",
    "          values.remove(value)\n",
    "          break\n",
    "  return res\n",
    "\n",
    "countries_labels = countries_labels.to_dict('list')\n",
    "countries_labels = two_lists_to_dict(countries_labels['COUNTRY_ID'], countries_labels['COUNTRY_NAME_EN'])\n",
    "\n",
    "indicator_labels = indicator_labels.to_dict('list')\n",
    "indicator_labels = two_lists_to_dict(indicator_labels['INDICATOR_ID'], indicator_labels['INDICATOR_LABEL_EN'])\n"
   ]
  },
  {
   "cell_type": "code",
   "execution_count": 40,
   "metadata": {},
   "outputs": [
    {
     "name": "stdout",
     "output_type": "stream",
     "text": [
      "Число стран: 241 | Число показателей: 35\n"
     ]
    }
   ],
   "source": [
    "print(f'Число стран: {len(countries_labels)} | Число показателей: {len(indicator_labels)}')"
   ]
  },
  {
   "cell_type": "code",
   "execution_count": 41,
   "metadata": {},
   "outputs": [
    {
     "data": {
      "text/plain": [
       "{'200101': 'Total population (thousands)',\n",
       " '200144': 'Population aged 15-24 years (thousands)',\n",
       " '200151': 'Population aged 65 years or older (thousands)',\n",
       " '200343': 'Population aged 14 years or younger (thousands)',\n",
       " '200345': 'Population aged 25-64 years (thousands) ',\n",
       " 'DT.TDS.DECT.GN.ZS': 'Total debt service (% of GNI)',\n",
       " 'NY.GDP.DEFL.ZS': 'GDP deflator (base year varies by country)',\n",
       " 'NY.GDP.MKTP.CD': 'GDP (current US$)',\n",
       " 'NY.GDP.MKTP.CN': 'GDP (current LCU)',\n",
       " 'NY.GDP.MKTP.KD  ': 'GDP at market prices (constant 2010 US$)',\n",
       " 'NY.GDP.MKTP.KD.ZG': 'GDP growth (annual %)',\n",
       " 'NY.GDP.MKTP.KN': 'GDP (constant LCU)',\n",
       " 'NY.GDP.MKTP.PP.CD': 'GDP, PPP (current international $)',\n",
       " 'NY.GDP.MKTP.PP.KD': 'GDP, PPP (constant 2011 international $)',\n",
       " 'NY.GDP.PCAP.CD': 'GDP per capita (current US$)',\n",
       " 'NY.GDP.PCAP.CN': 'GDP per capita (current LCU)',\n",
       " 'NY.GDP.PCAP.PP.CD': 'GDP per capita, PPP (current international $)',\n",
       " 'NY.GDP.PCAP.PP.KD': 'GDP per capita, PPP (constant 2011 international $)',\n",
       " 'NY.GNP.MKTP.CN': 'GNI (current LCU)',\n",
       " 'NY.GNP.PCAP.CD': 'GNI per capita, Atlas method (current US$)',\n",
       " 'NY.GNP.PCAP.CN': 'GNI per capita (current LCU)',\n",
       " 'NY.GNP.PCAP.PP.CD': 'GNI per capita, PPP (current international $)',\n",
       " 'PA.NUS.ATLS ': 'DEC alternative conversion factor (LCU per US$)',\n",
       " 'PA.NUS.FCRF': 'Official exchange rate (LCU per US$, period average)',\n",
       " 'PA.NUS.PPP': 'PPP conversion factor, GDP (LCU per international $)',\n",
       " 'PA.NUS.PPPC.RF': 'Price level ratio of PPP conversion factor (GDP) to market exchange rate',\n",
       " 'PA.NUS.PRVT.PP': 'PPP conversion factor, private consumption (LCU per international $)',\n",
       " 'SH.DYN.AIDS.ZS': 'Prevalence of HIV, total (% of population ages 15-49)',\n",
       " 'SI.POV.LMIC': 'Poverty headcount ratio at $3.20 a day (PPP) (% of population)',\n",
       " 'SP.DYN.IMRT.IN': 'Mortality rate, infant (per 1,000 live births)',\n",
       " 'SP.DYN.LE00.IN': 'Life expectancy at birth, total (years)',\n",
       " 'SP.DYN.TFRT.IN': 'Fertility rate, total (births per woman)',\n",
       " 'SP.POP.GROW': 'Population growth (annual %)',\n",
       " 'SP.RUR.TOTL.ZS': 'Rural population (% of total population)',\n",
       " 'XTGOV.IMF': 'General government total expenditure (current LCU)'}"
      ]
     },
     "execution_count": 41,
     "metadata": {},
     "output_type": "execute_result"
    }
   ],
   "source": [
    "indicator_labels"
   ]
  },
  {
   "cell_type": "markdown",
   "metadata": {},
   "source": [
    "Т.к. у меня как бы 35 датасетов в одном, и 1 числовой признак Value, то значения Value не отмасштабированы. Это значит, что массив всех значений Value априори не подчиняется какому-то статистическому закону. Проводить восстановление значений будет бессмысленно.\n",
    "\n",
    "Кроме того, такие абсолютные значения как годовой ВВП у стран могут отличаться на порядки, например, у КНР и Анголы. Для работы **нужно выбрать такие числовые метрики, которые не имели бы такой большой разброс**, например, **ожидаемая средняя продолжительность жизни человека**, или тот же **ВВП**, но **в процентах к предыдущему году**.\n",
    "\n",
    "**Еще для второго задания мне нужно найти распределение, похожее на нормальное.** Подойдет метрика \"ожидаемая средняя продолжительность жизни человека\"."
   ]
  },
  {
   "cell_type": "code",
   "execution_count": 42,
   "metadata": {},
   "outputs": [],
   "source": [
    "values_trash = df[df['INDICATOR_ID'] == \"NY.GDP.MKTP.CN\"]['VALUE']\n",
    "values_trash.name = 'ВВП, $'\n",
    "\n",
    "df1 = df[df['INDICATOR_ID'] == \"SP.DYN.LE00.IN\"]\n",
    "df1.index = range(0, df1.shape[0])\n",
    "df2 = df[df['INDICATOR_ID'] ==\"NY.GDP.MKTP.KD.ZG\"]\n",
    "df2.index = range(0, df2.shape[0])\n",
    "\n",
    "values1 = df1['VALUE']\n",
    "values1.name = 'Продолжительность жизни, лет'\n",
    "values2 = df2['VALUE']\n",
    "values2.name = 'Прирост ВВП за год, %'"
   ]
  },
  {
   "cell_type": "code",
   "execution_count": 43,
   "metadata": {},
   "outputs": [
    {
     "data": {
      "text/plain": [
       "<AxesSubplot:xlabel='Прирост ВВП за год, %', ylabel='Density'>"
      ]
     },
     "execution_count": 43,
     "metadata": {},
     "output_type": "execute_result"
    },
    {
     "data": {
      "image/png": "[encoded data removed]",
      "text/plain": [
       "<Figure size 1440x360 with 3 Axes>"
      ]
     },
     "metadata": {
      "needs_background": "light"
     },
     "output_type": "display_data"
    }
   ],
   "source": [
    "figure, axes = plt.subplots(1, 3, figsize=(20,5))\n",
    "\n",
    "sns.kdeplot(ax=axes[0], data=values_trash)\n",
    "sns.kdeplot(ax=axes[1], data=values1)\n",
    "sns.kdeplot(ax=axes[2], data=values2)"
   ]
  },
  {
   "cell_type": "markdown",
   "metadata": {},
   "source": [
    "Как видно, в \"первом датасете\" значения \"VALUE\" несопоставимы. Его рассматривать не буду.\n",
    "\n",
    "Далее, в качестве первого датасета возьму значения \"VALUE\", когда \"INDICATOR_ID\" ==\"NY.GDP.MKTP.KD.ZG\", а в качестве второго датасета - когда \"INDICATOR_ID\" ==\"SP.DYN.LE00.IN\"\n"
   ]
  },
  {
   "cell_type": "markdown",
   "metadata": {},
   "source": [
    "### Дополнительное требование "
   ]
  },
  {
   "cell_type": "code",
   "execution_count": 61,
   "metadata": {},
   "outputs": [
    {
     "data": {
      "text/plain": [
       "<AxesSubplot:xlabel='Прирост ВВП за год, %', ylabel='Count'>"
      ]
     },
     "execution_count": 61,
     "metadata": {},
     "output_type": "execute_result"
    },
    {
     "data": {
      "image/png": "[encoded data removed]",
      "text/plain": [
       "<Figure size 1440x360 with 3 Axes>"
      ]
     },
     "metadata": {
      "needs_background": "light"
     },
     "output_type": "display_data"
    }
   ],
   "source": [
    "figure, axes = plt.subplots(1, 3, figsize=(20,5))\n",
    "\n",
    "sns.histplot(ax=axes[0], data=values_trash, bins=15)\n",
    "sns.histplot(ax=axes[1], data=values1, bins=30)\n",
    "sns.histplot(ax=axes[2], data=values2, bins=100)"
   ]
  },
  {
   "cell_type": "markdown",
   "metadata": {},
   "source": [
    "### Задача №7\n",
    "\n",
    "Модифицирую первый датасет так, чтобы в колонке VALUE у меня было не более 5% пропусков."
   ]
  },
  {
   "cell_type": "code",
   "execution_count": 45,
   "metadata": {},
   "outputs": [
    {
     "name": "stdout",
     "output_type": "stream",
     "text": [
      "(10792, 4)\n"
     ]
    }
   ],
   "source": [
    "print(df1.shape)"
   ]
  },
  {
   "cell_type": "code",
   "execution_count": 46,
   "metadata": {},
   "outputs": [
    {
     "name": "stderr",
     "output_type": "stream",
     "text": [
      "C:\\Users\\dturc\\AppData\\Local\\Temp\\ipykernel_29608\\145377067.py:6: SettingWithCopyWarning: \n",
      "A value is trying to be set on a copy of a slice from a DataFrame\n",
      "\n",
      "See the caveats in the documentation: https://pandas.pydata.org/pandas-docs/stable/user_guide/indexing.html#returning-a-view-versus-a-copy\n",
      "  df1['VALUE'][nan_indeces] = np.NaN\n",
      "c:\\Users\\dturc\\AppData\\Local\\Programs\\Python\\Python39\\lib\\site-packages\\pandas\\core\\series.py:1135: SettingWithCopyWarning: \n",
      "A value is trying to be set on a copy of a slice from a DataFrame\n",
      "\n",
      "See the caveats in the documentation: https://pandas.pydata.org/pandas-docs/stable/user_guide/indexing.html#returning-a-view-versus-a-copy\n",
      "  self._set_values(indexer, value)\n"
     ]
    }
   ],
   "source": [
    "np.random.seed(1999)\n",
    "\n",
    "n_rows = df1.shape[0]\n",
    "nan_indeces = np.random.uniform(0, n_rows - 1, int(0.05 * n_rows))\n",
    "nan_indeces = np.rint(nan_indeces).astype(int)\n",
    "df1['VALUE'][nan_indeces] = np.NaN\n",
    "\n",
    "# df.iloc[nan_indeces]['VALUE'] = np.NaN\n"
   ]
  },
  {
   "cell_type": "code",
   "execution_count": 47,
   "metadata": {},
   "outputs": [
    {
     "name": "stdout",
     "output_type": "stream",
     "text": [
      "<class 'pandas.core.frame.DataFrame'>\n",
      "RangeIndex: 10792 entries, 0 to 10791\n",
      "Data columns (total 4 columns):\n",
      " #   Column        Non-Null Count  Dtype  \n",
      "---  ------        --------------  -----  \n",
      " 0   INDICATOR_ID  10792 non-null  object \n",
      " 1   COUNTRY_ID    10792 non-null  object \n",
      " 2   YEAR          10792 non-null  int64  \n",
      " 3   VALUE         10261 non-null  float64\n",
      "dtypes: float64(1), int64(1), object(2)\n",
      "memory usage: 337.4+ KB\n"
     ]
    }
   ],
   "source": [
    "df1.info()"
   ]
  },
  {
   "cell_type": "markdown",
   "metadata": {},
   "source": [
    "Количество пропуском в поцентном соотношении:"
   ]
  },
  {
   "cell_type": "code",
   "execution_count": 48,
   "metadata": {},
   "outputs": [
    {
     "data": {
      "text/plain": [
       "INDICATOR_ID    0.00\n",
       "COUNTRY_ID      0.00\n",
       "YEAR            0.00\n",
       "VALUE           4.92\n",
       "dtype: float64"
      ]
     },
     "execution_count": 48,
     "metadata": {},
     "output_type": "execute_result"
    }
   ],
   "source": [
    "(df1.isna().sum() / len(df1)).round(4) * 100"
   ]
  },
  {
   "cell_type": "code",
   "execution_count": 49,
   "metadata": {},
   "outputs": [],
   "source": [
    "def impute_column(dataset, column, strategy_param, fill_value_param=None):\n",
    "    \"\"\"\n",
    "    Заполнение пропусков в одном признаке\n",
    "    \"\"\"\n",
    "    temp_data = dataset[[column]].values\n",
    "    size = temp_data.shape[0]\n",
    "    \n",
    "    indicator = MissingIndicator()\n",
    "    mask_missing_values_only = indicator.fit_transform(temp_data)\n",
    "    \n",
    "    imputer = SimpleImputer(strategy=strategy_param, \n",
    "                            fill_value=fill_value_param)\n",
    "    all_data = imputer.fit_transform(temp_data)\n",
    "    \n",
    "    missed_data = temp_data[mask_missing_values_only]\n",
    "    filled_data = all_data[mask_missing_values_only]\n",
    "    \n",
    "    return all_data.reshape((size,)), filled_data, missed_data"
   ]
  },
  {
   "cell_type": "code",
   "execution_count": 50,
   "metadata": {},
   "outputs": [
    {
     "data": {
      "text/plain": [
       "<AxesSubplot:ylabel='Density'>"
      ]
     },
     "execution_count": 50,
     "metadata": {},
     "output_type": "execute_result"
    },
    {
     "data": {
      "image/png": "[encoded data removed]",
      "text/plain": [
       "<Figure size 720x360 with 1 Axes>"
      ]
     },
     "metadata": {
      "needs_background": "light"
     },
     "output_type": "display_data"
    }
   ],
   "source": [
    "df1_imputed, df1_filled, df1_missed = impute_column(df1, 'VALUE', 'median')\n",
    "\n",
    "fig, ax = plt.subplots(figsize=(10, 5))\n",
    "\n",
    "sns.kdeplot(\n",
    "  ax=ax,\n",
    "  data=pd.DataFrame({\n",
    "    'Исходные данные': df1['VALUE'].values,\n",
    "    'Заполнение медианой': df1_imputed,\n",
    "  }),\n",
    ")"
   ]
  },
  {
   "cell_type": "code",
   "execution_count": 51,
   "metadata": {},
   "outputs": [
    {
     "name": "stdout",
     "output_type": "stream",
     "text": [
      "Было 531 пропусков. Было заполнено 531 пропусков значением 68.924 (медиана)\n"
     ]
    }
   ],
   "source": [
    "print('Было {} пропусков. Было заполнено {} пропусков значением {} (медиана)'.format(df1.isna().sum()['VALUE'], len(df1_filled), df1_filled[0]))\n"
   ]
  },
  {
   "cell_type": "markdown",
   "metadata": {},
   "source": [
    "Заполнение пропусков медианой **выполнено**."
   ]
  },
  {
   "cell_type": "markdown",
   "metadata": {},
   "source": [
    "### Задача №27"
   ]
  },
  {
   "cell_type": "code",
   "execution_count": 52,
   "metadata": {},
   "outputs": [
    {
     "name": "stdout",
     "output_type": "stream",
     "text": [
      "(9152, 4)\n"
     ]
    }
   ],
   "source": [
    "print(df2.shape)\n",
    "\n",
    "# Можно было бы наложить дополнительные выбросы\n",
    "\n",
    "# n_rows = df2.shape[0]\n",
    "# nan_indeces = np.random.uniform(0, n_rows - 1, int(0.10 * n_rows))\n",
    "# nan_indeces = np.rint(nan_indeces).astype(int)\n",
    "# df2['VALUE'][nan_indeces] = ..."
   ]
  },
  {
   "cell_type": "code",
   "execution_count": 53,
   "metadata": {},
   "outputs": [
    {
     "name": "stdout",
     "output_type": "stream",
     "text": [
      "<class 'pandas.core.frame.DataFrame'>\n",
      "RangeIndex: 9152 entries, 0 to 9151\n",
      "Data columns (total 4 columns):\n",
      " #   Column        Non-Null Count  Dtype  \n",
      "---  ------        --------------  -----  \n",
      " 0   INDICATOR_ID  9152 non-null   object \n",
      " 1   COUNTRY_ID    9152 non-null   object \n",
      " 2   YEAR          9152 non-null   int64  \n",
      " 3   VALUE         9152 non-null   float64\n",
      "dtypes: float64(1), int64(1), object(2)\n",
      "memory usage: 286.1+ KB\n"
     ]
    }
   ],
   "source": [
    "df2.info()"
   ]
  },
  {
   "cell_type": "markdown",
   "metadata": {},
   "source": [
    "Количество пропуском в поцентном соотношении:"
   ]
  },
  {
   "cell_type": "code",
   "execution_count": 54,
   "metadata": {},
   "outputs": [
    {
     "data": {
      "text/plain": [
       "INDICATOR_ID    0.0\n",
       "COUNTRY_ID      0.0\n",
       "YEAR            0.0\n",
       "VALUE           0.0\n",
       "dtype: float64"
      ]
     },
     "execution_count": 54,
     "metadata": {},
     "output_type": "execute_result"
    }
   ],
   "source": [
    "(df2.isna().sum() / len(df2)).round(4) * 100"
   ]
  },
  {
   "cell_type": "code",
   "execution_count": 55,
   "metadata": {},
   "outputs": [],
   "source": [
    "# Графики из лекции\n",
    "def diagnostic_plots(df, variable, title):\n",
    "    fig, ax = plt.subplots(figsize=(10,7))\n",
    "    # гистограмма\n",
    "    plt.subplot(2, 2, 1)\n",
    "    df[variable].hist(bins=30)\n",
    "    ## Q-Q plot\n",
    "    plt.subplot(2, 2, 2)\n",
    "    stats.probplot(df[variable], dist=\"norm\", plot=plt)\n",
    "    # скрипичная диаграмма\n",
    "    plt.subplot(2, 2, 3)\n",
    "    sns.violinplot(x=df[variable])    \n",
    "    # ящик с усами\n",
    "    plt.subplot(2, 2, 4)\n",
    "    sns.boxplot(x=df[variable])  \n",
    "    fig.suptitle(title)\n",
    "    plt.show()"
   ]
  },
  {
   "cell_type": "code",
   "execution_count": 56,
   "metadata": {},
   "outputs": [
    {
     "data": {
      "image/png": "[encoded data removed]",
      "text/plain": [
       "<Figure size 720x504 with 4 Axes>"
      ]
     },
     "metadata": {
      "needs_background": "light"
     },
     "output_type": "display_data"
    }
   ],
   "source": [
    "diagnostic_plots(df2, 'VALUE', 'Данные с выбросами')"
   ]
  },
  {
   "cell_type": "code",
   "execution_count": 57,
   "metadata": {},
   "outputs": [],
   "source": [
    "lower_boundary = df2['VALUE'].quantile(0.05)\n",
    "upper_boundary = df2['VALUE'].quantile(0.95)"
   ]
  },
  {
   "cell_type": "code",
   "execution_count": 58,
   "metadata": {},
   "outputs": [],
   "source": [
    "df2_outlined = df2.copy()\n",
    "\n",
    "df2_outlined['VALUE'] = np.where(\n",
    "  df2_outlined['VALUE'] > upper_boundary, upper_boundary, np.where(\n",
    "    df2_outlined['VALUE'] < lower_boundary, lower_boundary, df2_outlined['VALUE']\n",
    "  )\n",
    ")"
   ]
  },
  {
   "cell_type": "code",
   "execution_count": 59,
   "metadata": {},
   "outputs": [
    {
     "data": {
      "image/png": "[encoded data removed]",
      "text/plain": [
       "<Figure size 720x504 with 4 Axes>"
      ]
     },
     "metadata": {
      "needs_background": "light"
     },
     "output_type": "display_data"
    }
   ],
   "source": [
    "diagnostic_plots(df2_outlined, 'VALUE', '5, 95-квантили')"
   ]
  },
  {
   "cell_type": "markdown",
   "metadata": {},
   "source": [
    "Обнаружение и замена выбросов на основе 5% и 95% квантилей **выполнены**."
   ]
  }
 ],
 "metadata": {
  "kernelspec": {
   "display_name": "Python 3",
   "language": "python",
   "name": "python3"
  },
  "language_info": {
   "codemirror_mode": {
    "name": "ipython",
    "version": 3
   },
   "file_extension": ".py",
   "mimetype": "text/x-python",
   "name": "python",
   "nbconvert_exporter": "python",
   "pygments_lexer": "ipython3",
   "version": "3.9.4"
  }
 },
 "nbformat": 4,
 "nbformat_minor": 2
}
