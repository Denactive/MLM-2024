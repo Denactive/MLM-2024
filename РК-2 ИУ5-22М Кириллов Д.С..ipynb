{
 "cells": [
  {
   "cell_type": "markdown",
   "metadata": {},
   "source": [
    "[PDF-версия](./РК-2%20ИУ5-12М%20Кириллов%20Д.С..pdf)"
   ]
  },
  {
   "cell_type": "markdown",
   "metadata": {},
   "source": [
    "![Титульный лист](./titulnik-rk-2.png)"
   ]
  },
  {
   "cell_type": "markdown",
   "metadata": {},
   "source": [
    "# РК-2 ММО в АСОИУ (Методы машинного обучения в АСОИУ)\n",
    "\n",
    "## ИУ5-22М Кириллов Д.С. Вариант 7\n",
    "\n",
    "20.05.2024\n",
    "\n",
    "## Задание\n",
    "\n",
    "Необходимо решить задачу классификации текстов на основе любого выбранного Вами датасета (кроме примера, который рассматривался в лекции). Классификация может быть бинарной или многоклассовой. Целевой признак из выбранного Вами датасета может иметь любой физический смысл, примером является задача анализа тональности текста.\n",
    "\n",
    "Необходимо сформировать два варианта векторизации признаков - на основе CountVectorizer и на основе TfidfVectorizer.\n",
    "\n",
    "Для каждого метода необходимо оценить качество классификации. Сделайте вывод о том, какой вариант векторизации признаков в паре с каким классификатором показал лучшее качество.\n",
    "\n",
    "В качестве классификаторов необходимо использовать два классификатора по варианту для Вашей группы:\n",
    "\n",
    "| Группа | Классификатор №1 | Классификатор №2 |\n",
    "| -------------- | --------------- | --------------- |\n",
    "| ИУ5-22М, ИУ5И-22М | RandomForestClassifier\t| LogisticRegression |\n",
    "\n",
    "\n",
    "## Ход работы\n",
    "\n",
    "### Подготовка датасета\n",
    "\n",
    "Взял датасет, который является результатом парсинга сайтов промышленных компаний из РФ. Цель классификации - определить область деятельности компании по тексту на ее сайте и сайтах, связанных с сайтом компании гиперссылками.\n",
    "\n",
    "К сожалению, датасет совсем небольшой - 79 строк, 9 из которых зашумлены. Кроме того, парсинг различных страниц, каждая из которых структурирована по-своему не всегда эффективен, т.к. нельзя стопроцентно выудить смысловую нагрузку. Это все отразилось на результатах моделей."
   ]
  },
  {
   "cell_type": "code",
   "execution_count": 72,
   "metadata": {},
   "outputs": [],
   "source": [
    "import numpy as np\n",
    "import pandas as pd\n",
    "import matplotlib.pyplot as plt\n",
    "import seaborn as sns\n",
    "from sklearn.feature_extraction.text import CountVectorizer, TfidfVectorizer\n",
    "from sklearn.model_selection import train_test_split\n",
    "from sklearn.linear_model import LogisticRegression\n",
    "from sklearn.ensemble import\tRandomForestClassifier\n",
    "from sklearn.model_selection import cross_val_predict\n",
    "from sklearn.metrics import classification_report\n",
    "\n",
    "%matplotlib inline\n",
    "\n",
    "sns.set(style=\"ticks\")"
   ]
  },
  {
   "cell_type": "code",
   "execution_count": 73,
   "metadata": {},
   "outputs": [
    {
     "name": "stdout",
     "output_type": "stream",
     "text": [
      "размер: (77, 10)\n",
      "\n",
      "колонки:\n",
      " №                                   int64\n",
      "ИНН                                 int64\n",
      "Наименование организации           object\n",
      "Полное наименование организации    object\n",
      "Сайт                               object\n",
      "Индустрия                          object\n",
      "Даты                               object\n",
      "Телефоны                           object\n",
      "Текст                              object\n",
      "Документы                          object\n",
      "dtype: object\n"
     ]
    }
   ],
   "source": [
    "data_folder = '../data/'\n",
    "df = pd.read_csv(data_folder + '79_rows_text_depth_3.csv')\n",
    "print(\"размер:\", df.shape)\n",
    "print(\"\\nколонки:\\n\", df.dtypes)"
   ]
  },
  {
   "cell_type": "code",
   "execution_count": 74,
   "metadata": {},
   "outputs": [
    {
     "data": {
      "text/html": [
       "<div>\n",
       "<style scoped>\n",
       "    .dataframe tbody tr th:only-of-type {\n",
       "        vertical-align: middle;\n",
       "    }\n",
       "\n",
       "    .dataframe tbody tr th {\n",
       "        vertical-align: top;\n",
       "    }\n",
       "\n",
       "    .dataframe thead th {\n",
       "        text-align: right;\n",
       "    }\n",
       "</style>\n",
       "<table border=\"1\" class=\"dataframe\">\n",
       "  <thead>\n",
       "    <tr style=\"text-align: right;\">\n",
       "      <th></th>\n",
       "      <th>№</th>\n",
       "      <th>ИНН</th>\n",
       "      <th>Наименование организации</th>\n",
       "      <th>Полное наименование организации</th>\n",
       "      <th>Сайт</th>\n",
       "      <th>Индустрия</th>\n",
       "      <th>Даты</th>\n",
       "      <th>Телефоны</th>\n",
       "      <th>Текст</th>\n",
       "      <th>Документы</th>\n",
       "    </tr>\n",
       "  </thead>\n",
       "  <tbody>\n",
       "    <tr>\n",
       "      <th>0</th>\n",
       "      <td>17</td>\n",
       "      <td>5051000880</td>\n",
       "      <td>АО \"ЩЛЗ\"</td>\n",
       "      <td>АКЦИОНЕРНОЕ ОБЩЕСТВО \"ЩЕРБИНСКИЙ ЛИФТОСТРОИТЕЛ...</td>\n",
       "      <td>www.shlz.ru</td>\n",
       "      <td>Машиностроение</td>\n",
       "      <td></td>\n",
       "      <td>8-800-350-30-50 8-800-350-30-50 8-800-350-30-5...</td>\n",
       "      <td>компания о компании награды и отзывы история ...</td>\n",
       "      <td>NaN</td>\n",
       "    </tr>\n",
       "    <tr>\n",
       "      <th>1</th>\n",
       "      <td>26</td>\n",
       "      <td>7724075162</td>\n",
       "      <td>ФГБУ \"НМИЦ ОНКОЛОГИИ ИМ. Н.Н. БЛОХИНА МИНЗДРАВ...</td>\n",
       "      <td>ФЕДЕРАЛЬНОЕ ГОСУДАРСТВЕННОЕ БЮДЖЕТНОЕ УЧРЕЖДЕН...</td>\n",
       "      <td>www.ronc.ru</td>\n",
       "      <td>Медицинская промышленность</td>\n",
       "      <td>30.8.2022 30.8.2022 30.8.2022 30.8.2022 5.11.2...</td>\n",
       "      <td>8-499-324-24-24 8-499-324-25-94 8-499-324-24-2...</td>\n",
       "      <td>фгбу нмиц онкологии им н н блохина минздрава ...</td>\n",
       "      <td>NaN</td>\n",
       "    </tr>\n",
       "    <tr>\n",
       "      <th>2</th>\n",
       "      <td>55</td>\n",
       "      <td>7720605108</td>\n",
       "      <td>ООО \"ФАБРИКА ВЕНТИЛЯЦИИ ГАЛВЕНТ\"</td>\n",
       "      <td>ОБЩЕСТВО С ОГРАНИЧЕННОЙ ОТВЕТСТВЕННОСТЬЮ \"ФАБР...</td>\n",
       "      <td>www.ventilyacia.ru</td>\n",
       "      <td>Лёгкая промышленность</td>\n",
       "      <td>6.4.2020 6.1.2020</td>\n",
       "      <td>8-495-790-76-98 8-495-790-76-98 8-495-790-76-9...</td>\n",
       "      <td>к сожалению ваш браузер не поддерживает javas...</td>\n",
       "      <td>NaN</td>\n",
       "    </tr>\n",
       "    <tr>\n",
       "      <th>3</th>\n",
       "      <td>80</td>\n",
       "      <td>7724190750</td>\n",
       "      <td>АО \"СМЕРФИТ КАППА РУС\"</td>\n",
       "      <td>АКЦИОНЕРНОЕ ОБЩЕСТВО \"СМЕРФИТ КАППА РУС\"</td>\n",
       "      <td>www.smurfitkappa.com/ru</td>\n",
       "      <td>Целлюлозно-бумажная промышленность</td>\n",
       "      <td>3.1.2022 13.1.2022 13.1.2022 13.1.2022 13.1.20...</td>\n",
       "      <td></td>\n",
       "      <td>перейти к основному содержимому страницыинвес...</td>\n",
       "      <td>NaN</td>\n",
       "    </tr>\n",
       "    <tr>\n",
       "      <th>4</th>\n",
       "      <td>83</td>\n",
       "      <td>7701165130</td>\n",
       "      <td>ООО \"НПП \"СПЕЦКАБЕЛЬ\"</td>\n",
       "      <td>ОБЩЕСТВО С ОГРАНИЧЕННОЙ ОТВЕТСТВЕННОСТЬЮ НПП \"...</td>\n",
       "      <td>www.spcable.ru</td>\n",
       "      <td>Лёгкая промышленность</td>\n",
       "      <td>14.3.2017 20.12.2016</td>\n",
       "      <td></td>\n",
       "      <td>продукция каталог сертификаты продажа для кли...</td>\n",
       "      <td>NaN</td>\n",
       "    </tr>\n",
       "  </tbody>\n",
       "</table>\n",
       "</div>"
      ],
      "text/plain": [
       "    №         ИНН                           Наименование организации  \\\n",
       "0  17  5051000880                                           АО \"ЩЛЗ\"   \n",
       "1  26  7724075162  ФГБУ \"НМИЦ ОНКОЛОГИИ ИМ. Н.Н. БЛОХИНА МИНЗДРАВ...   \n",
       "2  55  7720605108                   ООО \"ФАБРИКА ВЕНТИЛЯЦИИ ГАЛВЕНТ\"   \n",
       "3  80  7724190750                             АО \"СМЕРФИТ КАППА РУС\"   \n",
       "4  83  7701165130                              ООО \"НПП \"СПЕЦКАБЕЛЬ\"   \n",
       "\n",
       "                     Полное наименование организации                     Сайт  \\\n",
       "0  АКЦИОНЕРНОЕ ОБЩЕСТВО \"ЩЕРБИНСКИЙ ЛИФТОСТРОИТЕЛ...              www.shlz.ru   \n",
       "1  ФЕДЕРАЛЬНОЕ ГОСУДАРСТВЕННОЕ БЮДЖЕТНОЕ УЧРЕЖДЕН...              www.ronc.ru   \n",
       "2  ОБЩЕСТВО С ОГРАНИЧЕННОЙ ОТВЕТСТВЕННОСТЬЮ \"ФАБР...       www.ventilyacia.ru   \n",
       "3           АКЦИОНЕРНОЕ ОБЩЕСТВО \"СМЕРФИТ КАППА РУС\"  www.smurfitkappa.com/ru   \n",
       "4  ОБЩЕСТВО С ОГРАНИЧЕННОЙ ОТВЕТСТВЕННОСТЬЮ НПП \"...           www.spcable.ru   \n",
       "\n",
       "                            Индустрия  \\\n",
       "0                      Машиностроение   \n",
       "1          Медицинская промышленность   \n",
       "2               Лёгкая промышленность   \n",
       "3  Целлюлозно-бумажная промышленность   \n",
       "4               Лёгкая промышленность   \n",
       "\n",
       "                                                Даты  \\\n",
       "0                                                      \n",
       "1  30.8.2022 30.8.2022 30.8.2022 30.8.2022 5.11.2...   \n",
       "2                                  6.4.2020 6.1.2020   \n",
       "3  3.1.2022 13.1.2022 13.1.2022 13.1.2022 13.1.20...   \n",
       "4                             14.3.2017 20.12.2016     \n",
       "\n",
       "                                            Телефоны  \\\n",
       "0  8-800-350-30-50 8-800-350-30-50 8-800-350-30-5...   \n",
       "1  8-499-324-24-24 8-499-324-25-94 8-499-324-24-2...   \n",
       "2  8-495-790-76-98 8-495-790-76-98 8-495-790-76-9...   \n",
       "3                                                      \n",
       "4                                                      \n",
       "\n",
       "                                               Текст Документы  \n",
       "0   компания о компании награды и отзывы история ...       NaN  \n",
       "1   фгбу нмиц онкологии им н н блохина минздрава ...       NaN  \n",
       "2   к сожалению ваш браузер не поддерживает javas...       NaN  \n",
       "3   перейти к основному содержимому страницыинвес...       NaN  \n",
       "4   продукция каталог сертификаты продажа для кли...       NaN  "
      ]
     },
     "execution_count": 74,
     "metadata": {},
     "output_type": "execute_result"
    }
   ],
   "source": [
    "df.head()"
   ]
  },
  {
   "cell_type": "markdown",
   "metadata": {},
   "source": [
    "Удалю данные, которые для исследования мне не нужны - все кроме текста сайта и метки области промышленности.\n",
    "\n",
    "Удалю пропуски и NaN"
   ]
  },
  {
   "cell_type": "code",
   "execution_count": 75,
   "metadata": {},
   "outputs": [
    {
     "name": "stdout",
     "output_type": "stream",
     "text": [
      "\n",
      "Пропущенные значения, %:\n",
      "Текст                         7           9.091%\tobject\n",
      "\n",
      "Очистка от строк, где Текст = NaN:\n",
      "Было 77 значений. Стало 70. Было удалено 7.\n"
     ]
    }
   ],
   "source": [
    "df = df.filter(['Индустрия','Текст'], axis=1)\n",
    "\n",
    "print(\"\\nПропущенные значения, %:\")\n",
    "for index, value in df.isnull().sum().get(lambda x: x > 0).items():\n",
    "  print(\"{:25s} {: ^10} {:>10.3f}%\\t{:s}\".format(index, value, value*100/df.shape[0], str(df[index].dtype)))\n",
    "  \n",
    "data_no_score = df.dropna(subset=[\"Текст\"])\n",
    "print()\n",
    "print(\"Очистка от строк, где Текст = NaN:\")\n",
    "print(\"Было %d значений. Стало %d. Было удалено %d.\" % (df.shape[0], data_no_score.shape[0], df.shape[0] - data_no_score.shape[0]))\n",
    "\n",
    "df = data_no_score"
   ]
  },
  {
   "cell_type": "code",
   "execution_count": 76,
   "metadata": {},
   "outputs": [
    {
     "name": "stdout",
     "output_type": "stream",
     "text": [
      "Машиностроение - 4\n",
      "Медицинская промышленность - 4\n",
      "Лёгкая промышленность - 12\n",
      "Целлюлозно-бумажная промышленность - 7\n",
      "Электротехническая промышленность - 21\n",
      "Пищевая промышленность - 2\n",
      "Текстильная промышленность - 6\n",
      "Энергетическая промышленность - 2\n",
      "Деревообрабатывающая  - 3\n",
      "Металлообработка - 8\n",
      "Авиационно-космическая промышленность - 1\n"
     ]
    }
   ],
   "source": [
    "for industry in df['Индустрия'].unique():\n",
    "  print(industry, '-', str(df[df['Индустрия'] == industry].count()[0]))"
   ]
  },
  {
   "cell_type": "markdown",
   "metadata": {},
   "source": [
    "### Векторизация признаков\n",
    "По заданию необходимо сформировать два варианта векторизации признаков - на основе CountVectorizer и на основе TfidfVectorizer.\n",
    "\n",
    "Сначала сформируем общий словарь для обучения моделей из обучающей и тестовой выборки. В словаре будут слова и столбца \"Текст\"."
   ]
  },
  {
   "cell_type": "code",
   "execution_count": 77,
   "metadata": {},
   "outputs": [
    {
     "data": {
      "text/plain": [
       "0     компания о компании награды и отзывы история ...\n",
       "1     фгбу нмиц онкологии им н н блохина минздрава ...\n",
       "2     к сожалению ваш браузер не поддерживает javas...\n",
       "3     перейти к основному содержимому страницыинвес...\n",
       "4     продукция каталог сертификаты продажа для кли...\n",
       "Name: Текст, dtype: object"
      ]
     },
     "execution_count": 77,
     "metadata": {},
     "output_type": "execute_result"
    }
   ],
   "source": [
    "vocab_list = df['Текст']\n",
    "vocab_list.head()"
   ]
  },
  {
   "cell_type": "markdown",
   "metadata": {},
   "source": [
    "#### CountVectorizer"
   ]
  },
  {
   "cell_type": "code",
   "execution_count": 78,
   "metadata": {},
   "outputs": [
    {
     "name": "stdout",
     "output_type": "stream",
     "text": [
      "Количество сформированных признаков - 19724\n"
     ]
    }
   ],
   "source": [
    "count_vectorizer = CountVectorizer()\n",
    "count_vectorizer.fit(vocab_list)\n",
    "count_vectorizer_vocab = count_vectorizer.vocabulary_\n",
    "print('Количество сформированных признаков - {}'.format(len(count_vectorizer_vocab)))"
   ]
  },
  {
   "cell_type": "markdown",
   "metadata": {},
   "source": [
    "Посмотрим на некоторые из слов сформированного с помощью CountVectorizer словаря:"
   ]
  },
  {
   "cell_type": "code",
   "execution_count": 79,
   "metadata": {},
   "outputs": [
    {
     "name": "stdout",
     "output_type": "stream",
     "text": [
      "компании: 7838\n",
      "награды: 9682\n",
      "отзывы: 11462\n",
      "история: 7292\n",
      "сертификаты: 15816\n",
      "разрешения: 14696\n",
      "на: 9647\n",
      "лифты: 8668\n",
      "устройства: 18277\n"
     ]
    }
   ],
   "source": [
    "for word in list(count_vectorizer_vocab)[1:10]:\n",
    "  print(f'{word}: {count_vectorizer_vocab[word]}')"
   ]
  },
  {
   "cell_type": "markdown",
   "metadata": {},
   "source": [
    "#### TfidfVectorizer"
   ]
  },
  {
   "cell_type": "code",
   "execution_count": 80,
   "metadata": {},
   "outputs": [
    {
     "name": "stdout",
     "output_type": "stream",
     "text": [
      "Количество сформированных признаков - 19724\n",
      "\n",
      "компании: 7838\n",
      "награды: 9682\n",
      "отзывы: 11462\n",
      "история: 7292\n",
      "сертификаты: 15816\n",
      "разрешения: 14696\n",
      "на: 9647\n",
      "лифты: 8668\n",
      "устройства: 18277\n"
     ]
    }
   ],
   "source": [
    "tfidf_vectorizer = TfidfVectorizer()\n",
    "tfidf_vectorizer.fit(vocab_list)\n",
    "tfidf_vectorizer_vocab = tfidf_vectorizer.vocabulary_\n",
    "print('Количество сформированных признаков - {}'.format(len(tfidf_vectorizer_vocab)))\n",
    "print()\n",
    "\n",
    "for word in list(tfidf_vectorizer_vocab)[1:10]:\n",
    "  print(f'{word}: {tfidf_vectorizer_vocab[word]}')"
   ]
  },
  {
   "cell_type": "markdown",
   "metadata": {},
   "source": [
    "Слова и их количество совпадают у методов CountVectorizer и TfidfVectorizer."
   ]
  },
  {
   "cell_type": "markdown",
   "metadata": {},
   "source": [
    "### Создание тестовой и тренировочной выборок"
   ]
  },
  {
   "cell_type": "code",
   "execution_count": 81,
   "metadata": {},
   "outputs": [
    {
     "name": "stdout",
     "output_type": "stream",
     "text": [
      "(49,) (21,) (49,) (21,)\n"
     ]
    }
   ],
   "source": [
    "X = df['Текст']\n",
    "y = df['Индустрия']\n",
    "X_train, X_test, y_train, y_test = train_test_split(X, y, test_size=0.3, random_state=42)\n",
    "\n",
    "print(*map(lambda x: x.shape, [X_train, X_test, y_train, y_test]))"
   ]
  },
  {
   "cell_type": "markdown",
   "metadata": {},
   "source": [
    "### Обучение моделей-классификаторов\n",
    "\n",
    "По моему варианту необходимо использовать методы:\n",
    "- RandomForestClassifier\n",
    "- LogisticRegression\n",
    "\n",
    "Проверим данные методы совместно с рассмотренными выше вариантами векторизации.\n",
    "\n",
    "Напишем вспомогательную функцию"
   ]
  },
  {
   "cell_type": "code",
   "execution_count": 82,
   "metadata": {},
   "outputs": [],
   "source": [
    "def train_and_score(vectorizer, classifier, X_train, y_train, X_test, y_test):\n",
    "  X_train_vec = vectorizer.fit_transform(X_train)\n",
    "  X_test_vec = vectorizer.transform(X_test)\n",
    "\n",
    "  classifier.fit(X_train_vec, y_train)\n",
    "  y_pred = classifier.predict(X_test_vec)\n",
    "  \n",
    "  clr = classification_report(y_test, y_pred, zero_division=True, digits=6)\n",
    "\n",
    "  print('Метод векторизации: {}'.format(vectorizer))\n",
    "  print('Метод классификации: {}'.format(classifier))\n",
    "  print('Оценка точности:\\n', clr)\n",
    "  return clr, vectorizer, classifier\n",
    "\n",
    "def test(vectorizer, classifier):\n",
    "  docs = [\n",
    "    'лифты сертификаты на устройства безопасности лифтов', # Электротехническая промышленность\n",
    "    'цикл производства от бумаги до упаковки', # Целлюлозно-бумажная промышленность\n",
    "    'продажа красной икры рыбных консервов свежемороженой и вяленой рыбы оптом по всей россии', # Пищевая промышленность\n",
    "    'добыча рыбы на сахалине камчатке курильских островах', # Пищевая промышленность\n",
    "  ]\n",
    "  correct = [\n",
    "    'Электротехническая промышленность',\n",
    "    'Целлюлозно-бумажная промышленность',\n",
    "    'Пищевая промышленность',\n",
    "    'Пищевая промышленность',\n",
    "  ]\n",
    "  \n",
    "  X_vec = vectorizer.transform(docs)\n",
    "  y_pred = classifier.predict(X_vec)\n",
    "  \n",
    "  print()\n",
    "  print('Ответ модели\\t\\t\\tПравильный ответ')\n",
    "  for pred, answer in zip(y_pred, correct):\n",
    "    print(f'{pred}\\t{answer}')\n",
    "  "
   ]
  },
  {
   "cell_type": "markdown",
   "metadata": {},
   "source": [
    "#### CountVectorizer, RandomForestClassifier"
   ]
  },
  {
   "cell_type": "code",
   "execution_count": 83,
   "metadata": {},
   "outputs": [
    {
     "name": "stdout",
     "output_type": "stream",
     "text": [
      "Метод векторизации: CountVectorizer()\n",
      "Метод классификации: RandomForestClassifier()\n",
      "Оценка точности:\n",
      "                                     precision    recall  f1-score   support\n",
      "\n",
      "             Лёгкая промышленность   1.000000  0.250000  0.400000         4\n",
      "                    Машиностроение   1.000000  0.000000  0.000000         1\n",
      "        Медицинская промышленность   1.000000  0.000000  0.000000         1\n",
      "                  Металлообработка   1.000000  0.000000  0.000000         3\n",
      "        Текстильная промышленность   1.000000  0.000000  0.000000         4\n",
      "Целлюлозно-бумажная промышленность   1.000000  1.000000  1.000000         1\n",
      " Электротехническая промышленность   0.400000  0.857143  0.545455         7\n",
      "     Энергетическая промышленность   0.000000  1.000000  0.000000         0\n",
      "\n",
      "                          accuracy                       0.380952        21\n",
      "                         macro avg   0.800000  0.388393  0.243182        21\n",
      "                      weighted avg   0.800000  0.380952  0.305628        21\n",
      "\n",
      "\n",
      "Ответ модели\t\t\tПравильный ответ\n",
      "Энергетическая промышленность\tЭлектротехническая промышленность\n",
      "Энергетическая промышленность\tЦеллюлозно-бумажная промышленность\n",
      "Энергетическая промышленность\tПищевая промышленность\n",
      "Энергетическая промышленность\tПищевая промышленность\n"
     ]
    }
   ],
   "source": [
    "cv_rf_clr, cv1, rf1 = train_and_score(CountVectorizer(), RandomForestClassifier(), X_train, y_train, X_test, y_test)\n",
    "test(cv1, rf1)"
   ]
  },
  {
   "cell_type": "markdown",
   "metadata": {},
   "source": [
    "---\n",
    "\n",
    "#### TfidfVectorizer, RandomForestClassifier"
   ]
  },
  {
   "cell_type": "code",
   "execution_count": 84,
   "metadata": {},
   "outputs": [
    {
     "name": "stdout",
     "output_type": "stream",
     "text": [
      "Метод векторизации: TfidfVectorizer()\n",
      "Метод классификации: RandomForestClassifier()\n",
      "Оценка точности:\n",
      "                                     precision    recall  f1-score   support\n",
      "\n",
      "             Лёгкая промышленность   1.000000  0.000000  0.000000         4\n",
      "                    Машиностроение   1.000000  0.000000  0.000000         1\n",
      "        Медицинская промышленность   1.000000  0.000000  0.000000         1\n",
      "                  Металлообработка   1.000000  0.000000  0.000000         3\n",
      "        Текстильная промышленность   1.000000  0.000000  0.000000         4\n",
      "Целлюлозно-бумажная промышленность   1.000000  1.000000  1.000000         1\n",
      " Электротехническая промышленность   0.315789  0.857143  0.461538         7\n",
      "     Энергетическая промышленность   0.000000  1.000000  0.000000         0\n",
      "\n",
      "                          accuracy                       0.333333        21\n",
      "                         macro avg   0.789474  0.357143  0.182692        21\n",
      "                      weighted avg   0.771930  0.333333  0.201465        21\n",
      "\n",
      "\n",
      "Ответ модели\t\t\tПравильный ответ\n",
      "Энергетическая промышленность\tЭлектротехническая промышленность\n",
      "Энергетическая промышленность\tЦеллюлозно-бумажная промышленность\n",
      "Энергетическая промышленность\tПищевая промышленность\n",
      "Энергетическая промышленность\tПищевая промышленность\n"
     ]
    }
   ],
   "source": [
    "tfv_rf_clr, tfv2, rf2 = train_and_score(TfidfVectorizer(), RandomForestClassifier(), X_train, y_train, X_test, y_test)\n",
    "test(tfv2, rf2)"
   ]
  },
  {
   "cell_type": "markdown",
   "metadata": {},
   "source": [
    "---\n",
    "\n",
    "#### CountVectorizer, LogisticRegression"
   ]
  },
  {
   "cell_type": "code",
   "execution_count": 85,
   "metadata": {},
   "outputs": [
    {
     "name": "stdout",
     "output_type": "stream",
     "text": [
      "Метод векторизации: CountVectorizer()\n",
      "Метод классификации: LogisticRegression()\n",
      "Оценка точности:\n",
      "                                     precision    recall  f1-score   support\n",
      "\n",
      "             Деревообрабатывающая    0.000000  1.000000  0.000000         0\n",
      "             Лёгкая промышленность   0.250000  0.250000  0.250000         4\n",
      "                    Машиностроение   1.000000  0.000000  0.000000         1\n",
      "        Медицинская промышленность   1.000000  0.000000  0.000000         1\n",
      "                  Металлообработка   1.000000  0.000000  0.000000         3\n",
      "        Текстильная промышленность   1.000000  0.000000  0.000000         4\n",
      "Целлюлозно-бумажная промышленность   1.000000  1.000000  1.000000         1\n",
      " Электротехническая промышленность   0.454545  0.714286  0.555556         7\n",
      "     Энергетическая промышленность   0.000000  1.000000  0.000000         0\n",
      "\n",
      "                          accuracy                       0.333333        21\n",
      "                         macro avg   0.633838  0.440476  0.200617        21\n",
      "                      weighted avg   0.675325  0.333333  0.280423        21\n",
      "\n",
      "\n",
      "Ответ модели\t\t\tПравильный ответ\n",
      "Энергетическая промышленность\tЭлектротехническая промышленность\n",
      "Энергетическая промышленность\tЦеллюлозно-бумажная промышленность\n",
      "Энергетическая промышленность\tПищевая промышленность\n",
      "Энергетическая промышленность\tПищевая промышленность\n"
     ]
    },
    {
     "name": "stderr",
     "output_type": "stream",
     "text": [
      "c:\\Users\\dturc\\AppData\\Local\\Programs\\Python\\Python39\\lib\\site-packages\\sklearn\\linear_model\\_logistic.py:469: ConvergenceWarning: lbfgs failed to converge (status=1):\n",
      "STOP: TOTAL NO. of ITERATIONS REACHED LIMIT.\n",
      "\n",
      "Increase the number of iterations (max_iter) or scale the data as shown in:\n",
      "    https://scikit-learn.org/stable/modules/preprocessing.html\n",
      "Please also refer to the documentation for alternative solver options:\n",
      "    https://scikit-learn.org/stable/modules/linear_model.html#logistic-regression\n",
      "  n_iter_i = _check_optimize_result(\n"
     ]
    }
   ],
   "source": [
    "cv_lr_clr, cv3, lr3 = train_and_score(CountVectorizer(), LogisticRegression(), X_train, y_train, X_test, y_test)\n",
    "test(cv3, lr3)"
   ]
  },
  {
   "cell_type": "markdown",
   "metadata": {},
   "source": [
    "---\n",
    "\n",
    "#### TfidfVectorizer, LogisticRegression"
   ]
  },
  {
   "cell_type": "code",
   "execution_count": 86,
   "metadata": {},
   "outputs": [
    {
     "name": "stdout",
     "output_type": "stream",
     "text": [
      "Метод векторизации: TfidfVectorizer()\n",
      "Метод классификации: RandomForestClassifier()\n",
      "Оценка точности:\n",
      "                                     precision    recall  f1-score   support\n",
      "\n",
      "             Лёгкая промышленность   1.000000  0.250000  0.400000         4\n",
      "                    Машиностроение   1.000000  0.000000  0.000000         1\n",
      "        Медицинская промышленность   1.000000  0.000000  0.000000         1\n",
      "                  Металлообработка   1.000000  0.000000  0.000000         3\n",
      "        Текстильная промышленность   1.000000  0.000000  0.000000         4\n",
      "Целлюлозно-бумажная промышленность   1.000000  1.000000  1.000000         1\n",
      " Электротехническая промышленность   0.400000  0.857143  0.545455         7\n",
      "     Энергетическая промышленность   0.000000  1.000000  0.000000         0\n",
      "\n",
      "                          accuracy                       0.380952        21\n",
      "                         macro avg   0.800000  0.388393  0.243182        21\n",
      "                      weighted avg   0.800000  0.380952  0.305628        21\n",
      "\n",
      "\n",
      "Ответ модели\t\t\tПравильный ответ\n",
      "Энергетическая промышленность\tЭлектротехническая промышленность\n",
      "Энергетическая промышленность\tЦеллюлозно-бумажная промышленность\n",
      "Энергетическая промышленность\tПищевая промышленность\n",
      "Энергетическая промышленность\tПищевая промышленность\n"
     ]
    }
   ],
   "source": [
    "tfv_lr_clr, tfv4, lr4 = train_and_score(TfidfVectorizer(), RandomForestClassifier(), X_train, y_train, X_test, y_test)\n",
    "test(tfv4, lr4)"
   ]
  },
  {
   "cell_type": "markdown",
   "metadata": {},
   "source": [
    "## Выводы\n",
    "\n",
    "В ходе выполнения работы были сформированы два варианта векторизации признаков - на основе CountVectorizer и на основе TfidfVectorizer. Для каждого метода была произведена оценка качество классификации classification report.\n",
    "\n",
    "\n",
    "К сожалению, невысокое качество датасета не позволило достичь значимых уровней достоверности результата в всех классификаторах. Таким образом, сделайть вывод о том, какой вариант векторизации признаков в паре с каким классификатором показал лучшее качество, не получится.\n",
    "\n",
    "Однако, на этом же датасете, но со стеммингом для русского языка мне удалось достичь среднеклассовой точности 50%. А на нормальных датасетах точность классификации комбинации методов (CountVectorizer, TfidfVectorizer) x (RandomForestClassifier, LogisticRegression, MultinomialNB, SVC) и других показывают среднеклассовую точность выше 75%.\n"
   ]
  }
 ],
 "metadata": {
  "kernelspec": {
   "display_name": "Python 3",
   "language": "python",
   "name": "python3"
  },
  "language_info": {
   "codemirror_mode": {
    "name": "ipython",
    "version": 3
   },
   "file_extension": ".py",
   "mimetype": "text/x-python",
   "name": "python",
   "nbconvert_exporter": "python",
   "pygments_lexer": "ipython3",
   "version": "3.9.4"
  }
 },
 "nbformat": 4,
 "nbformat_minor": 2
}
